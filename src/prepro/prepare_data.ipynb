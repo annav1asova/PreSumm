{
 "cells": [
  {
   "cell_type": "code",
   "execution_count": 35,
   "metadata": {},
   "outputs": [
    {
     "name": "stderr",
     "output_type": "stream",
     "text": [
      "[nltk_data] Downloading package punkt to /home/avlasova/nltk_data...\n",
      "[nltk_data]   Package punkt is already up-to-date!\n"
     ]
    },
    {
     "data": {
      "text/plain": [
       "True"
      ]
     },
     "execution_count": 35,
     "metadata": {},
     "output_type": "execute_result"
    }
   ],
   "source": [
    "import pandas as pd\n",
    "import numpy as np\n",
    "import matplotlib.pyplot as plt\n",
    "import  tarfile\n",
    "import os\n",
    "import re\n",
    "import nltk\n",
    "nltk.download('punkt')"
   ]
  },
  {
   "cell_type": "code",
   "execution_count": 40,
   "metadata": {},
   "outputs": [],
   "source": [
    "fragments_path = \"/data/fragments.tar\"\n",
    "abstracts_path = \"/data/abstracts.tar\""
   ]
  },
  {
   "cell_type": "code",
   "execution_count": 54,
   "metadata": {},
   "outputs": [],
   "source": [
    "tar_fragments = tarfile.open(os.getenv(\"HOME\") + fragments_path)\n",
    "tar_members_fragments = tar_fragments.getmembers()\n",
    "\n",
    "tar_abstracts = tarfile.open(os.getenv(\"HOME\") + abstracts_path)\n",
    "tar_members_abstracts = tar_abstracts.getmembers()"
   ]
  },
  {
   "cell_type": "code",
   "execution_count": 42,
   "metadata": {},
   "outputs": [],
   "source": [
    "assert len(tar_members_abstracts) == len(tar_members_fragments)"
   ]
  },
  {
   "cell_type": "code",
   "execution_count": 43,
   "metadata": {},
   "outputs": [],
   "source": [
    "def divide_article_id(article):\n",
    "    id_splitted = article.split('/')\n",
    "    article_id, second_id = id_splitted[1].split('.')[0], id_splitted[2]\n",
    "    return pd.Series([article_id, second_id])"
   ]
  },
  {
   "cell_type": "code",
   "execution_count": 44,
   "metadata": {},
   "outputs": [],
   "source": [
    "def standartize(text):\n",
    "    text = text.replace('--', '-')\n",
    "    text = text.replace(';', \".\")\n",
    "    text = text.replace('...', \".\")\n",
    "    text = text.replace('..', \".\")\n",
    "    text = text.replace(\"'''\", \"'\")\n",
    "    text = text.replace(\"''\", \"'\")\n",
    "    text = text.replace(\"```\", \"`\")\n",
    "    text = text.replace(\"``\", \"`\")\n",
    "    text = text.strip()\n",
    "    \n",
    "    text = re.sub(r'\\([^\\)]*\\)', '', text)\n",
    "\n",
    "    text = re.sub(r'\\[xref\\]', '', text)\n",
    "    text = re.sub(r'\\[[^]]*\\]', '', text)\n",
    "    text = text.replace(\" ,\", \",\")\n",
    "    text = text.replace(\" .\", \".\")\n",
    "#     text = re.sub(r'[\\(|\\[]\\[xref\\][\\)|]]|\\[xref\\]', '', text)\n",
    "#     text = re.sub(r'\\([https|http](.*?)\\)', '', text)\n",
    "    return text"
   ]
  },
  {
   "cell_type": "code",
   "execution_count": 51,
   "metadata": {},
   "outputs": [],
   "source": [
    "def write_to_file(article):\n",
    "    article_id, full_text, abstract = article\n",
    "    article_sentences = nltk.tokenize.sent_tokenize(full_text)\n",
    "    abstract_sentences = nltk.tokenize.sent_tokenize(abstract)\n",
    "    \n",
    "    full_text = '\\n\\n'.join(article_sentences)\n",
    "    \n",
    "    sep = '@highlight\\n\\n'\n",
    "    summary = sep + ('\\n\\n' + sep).join(abstract_sentences)\n",
    "    \n",
    "    res_article = '\\n\\n'.join([full_text, summary])\n",
    "        \n",
    "    f = open(os.getenv(\"HOME\") + '/PreSumm/raw_data/{}.paper'.format(article_id),'w+')\n",
    "    f.write(res_article)\n",
    "    f.close()"
   ]
  },
  {
   "cell_type": "code",
   "execution_count": 53,
   "metadata": {},
   "outputs": [
    {
     "name": "stdout",
     "output_type": "stream",
     "text": [
      "Standartizing texts...\n",
      "Standartizing texts...\n"
     ]
    }
   ],
   "source": [
    "n_files_to_add = 6\n",
    "for fragments_member, abstracts_member in list(zip(tar_members_fragments, tar_members_abstracts))[:n_files_to_add]:\n",
    "    fragments_file = tar_fragments.extractfile(fragments_member)\n",
    "    fragments_df = pd.read_csv(fragments_file, sep='\\t', header=None, \n",
    "                               names=['id', 'fragment_text']).dropna()\n",
    "\n",
    "    abstracts_file = tar_abstracts.extractfile(abstracts_member)\n",
    "    abstracts_df = pd.read_csv(abstracts_file, sep='\\t', header=None, \n",
    "                               names=['id', 'abstract_text']).dropna()\n",
    "\n",
    "    abstracts_df[['article_id', 'abstract_id']] = abstracts_df['id'].apply(lambda row: divide_article_id(row))\n",
    "    fragments_df[['article_id', 'fragment_id']] = fragments_df['id'].apply(lambda row: divide_article_id(row))\n",
    "\n",
    "    fragments_df.drop(columns=['id'], inplace=True)\n",
    "    abstracts_df.drop(columns=['id'], inplace=True)\n",
    "\n",
    "    texts_df = fragments_df.groupby('article_id')['fragment_text']\\\n",
    "                .apply(lambda x: '\\n'.join(x)).reset_index()\\\n",
    "                .rename(columns={'fragment_text':'article_text'})\n",
    "\n",
    "    papers_df = pd.merge(texts_df, abstracts_df, on='article_id')\n",
    "    papers_df = papers_df[papers_df['abstract_id'].astype(int) == 1]\n",
    "    \n",
    "    print(\"Standartizing texts...\")\n",
    "\n",
    "    papers_df['article_text_standartized'] = papers_df['article_text'].apply(lambda text: standartize(text))\n",
    "    papers_df['abstract_text_standartized'] = papers_df['abstract_text'].apply(lambda text: standartize(text))\n",
    "\n",
    "    papers_df[['article_id', 'article_text_standartized', 'abstract_text_standartized']].apply(lambda article: write_to_file(article), axis=1)"
   ]
  },
  {
   "cell_type": "markdown",
   "metadata": {},
   "source": [
    "### Summary on Pubtrends dataset"
   ]
  },
  {
   "cell_type": "markdown",
   "metadata": {},
   "source": [
    "##### Number of sentences"
   ]
  },
  {
   "cell_type": "code",
   "execution_count": 464,
   "metadata": {},
   "outputs": [],
   "source": [
    "papers_df['abstract_n_sent_st'] = papers_df['abstract_text_standartized'].apply(lambda text: len(nltk.tokenize.sent_tokenize(text)))"
   ]
  },
  {
   "cell_type": "code",
   "execution_count": 465,
   "metadata": {},
   "outputs": [],
   "source": [
    "papers_df = papers_df[papers_df['abstract_n_sent_st'] < 1000]"
   ]
  },
  {
   "cell_type": "code",
   "execution_count": 467,
   "metadata": {},
   "outputs": [
    {
     "name": "stdout",
     "output_type": "stream",
     "text": [
      "median sentence amount in abstract:  9.0\n"
     ]
    },
    {
     "data": {
      "image/png": "[encoded data removed]",
      "text/plain": [
       "<Figure size 432x288 with 1 Axes>"
      ]
     },
     "metadata": {
      "needs_background": "light"
     },
     "output_type": "display_data"
    }
   ],
   "source": [
    "papers_df['abstract_n_sent_st'].hist(bins=20)\n",
    "print(\"median sentence amount in abstract: \", papers_df['abstract_n_sent_st'].median())"
   ]
  },
  {
   "cell_type": "code",
   "execution_count": 468,
   "metadata": {},
   "outputs": [],
   "source": [
    "papers_df['article_n_sent_st'] = papers_df['article_text_standartized'].apply(lambda text: len(nltk.tokenize.sent_tokenize(text)))"
   ]
  },
  {
   "cell_type": "code",
   "execution_count": 470,
   "metadata": {},
   "outputs": [
    {
     "data": {
      "text/html": [
       "<div>\n",
       "<style scoped>\n",
       "    .dataframe tbody tr th:only-of-type {\n",
       "        vertical-align: middle;\n",
       "    }\n",
       "\n",
       "    .dataframe tbody tr th {\n",
       "        vertical-align: top;\n",
       "    }\n",
       "\n",
       "    .dataframe thead th {\n",
       "        text-align: right;\n",
       "    }\n",
       "</style>\n",
       "<table border=\"1\" class=\"dataframe\">\n",
       "  <thead>\n",
       "    <tr style=\"text-align: right;\">\n",
       "      <th></th>\n",
       "      <th>article_id</th>\n",
       "      <th>article_text</th>\n",
       "      <th>abstract_text</th>\n",
       "      <th>abstract_id</th>\n",
       "      <th>article_text_standartized</th>\n",
       "      <th>abstract_text_standartized</th>\n",
       "      <th>abstract_n_sent_st</th>\n",
       "      <th>article_n_sent_st</th>\n",
       "    </tr>\n",
       "  </thead>\n",
       "  <tbody>\n",
       "    <tr>\n",
       "      <th>0</th>\n",
       "      <td>PMC1510899</td>\n",
       "      <td>This study examined the association between pl...</td>\n",
       "      <td>This study examined the association between pl...</td>\n",
       "      <td>1</td>\n",
       "      <td>This study examined the association between pl...</td>\n",
       "      <td>This study examined the association between pl...</td>\n",
       "      <td>9</td>\n",
       "      <td>9</td>\n",
       "    </tr>\n",
       "    <tr>\n",
       "      <th>1</th>\n",
       "      <td>PMC1693572</td>\n",
       "      <td>To determine whether observed changes in HIV p...</td>\n",
       "      <td>To determine whether observed changes in HIV p...</td>\n",
       "      <td>1</td>\n",
       "      <td>To determine whether observed changes in HIV p...</td>\n",
       "      <td>To determine whether observed changes in HIV p...</td>\n",
       "      <td>8</td>\n",
       "      <td>8</td>\n",
       "    </tr>\n",
       "    <tr>\n",
       "      <th>2</th>\n",
       "      <td>PMC1794711</td>\n",
       "      <td>The negative effect of poverty on child health...</td>\n",
       "      <td>The negative effect of poverty on child health...</td>\n",
       "      <td>1</td>\n",
       "      <td>The negative effect of poverty on child health...</td>\n",
       "      <td>The negative effect of poverty on child health...</td>\n",
       "      <td>13</td>\n",
       "      <td>13</td>\n",
       "    </tr>\n",
       "    <tr>\n",
       "      <th>3</th>\n",
       "      <td>PMC1798306</td>\n",
       "      <td>The recently accomplished complete genomic seq...</td>\n",
       "      <td>The recently accomplished complete genomic seq...</td>\n",
       "      <td>1</td>\n",
       "      <td>The recently accomplished complete genomic seq...</td>\n",
       "      <td>The recently accomplished complete genomic seq...</td>\n",
       "      <td>8</td>\n",
       "      <td>8</td>\n",
       "    </tr>\n",
       "    <tr>\n",
       "      <th>4</th>\n",
       "      <td>PMC1800823</td>\n",
       "      <td>The genus Rickettsia consists of intracellular...</td>\n",
       "      <td>The genus Rickettsia consists of intracellular...</td>\n",
       "      <td>1</td>\n",
       "      <td>The genus Rickettsia consists of intracellular...</td>\n",
       "      <td>The genus Rickettsia consists of intracellular...</td>\n",
       "      <td>7</td>\n",
       "      <td>7</td>\n",
       "    </tr>\n",
       "    <tr>\n",
       "      <th>...</th>\n",
       "      <td>...</td>\n",
       "      <td>...</td>\n",
       "      <td>...</td>\n",
       "      <td>...</td>\n",
       "      <td>...</td>\n",
       "      <td>...</td>\n",
       "      <td>...</td>\n",
       "      <td>...</td>\n",
       "    </tr>\n",
       "    <tr>\n",
       "      <th>11297</th>\n",
       "      <td>PMC6445367</td>\n",
       "      <td>The development, maintenance of healthy bone a...</td>\n",
       "      <td>The development, maintenance of healthy bone a...</td>\n",
       "      <td>1</td>\n",
       "      <td>The development, maintenance of healthy bone a...</td>\n",
       "      <td>The development, maintenance of healthy bone a...</td>\n",
       "      <td>5</td>\n",
       "      <td>5</td>\n",
       "    </tr>\n",
       "    <tr>\n",
       "      <th>11298</th>\n",
       "      <td>PMC6448565</td>\n",
       "      <td>Despite its revolutionary success in hematolog...</td>\n",
       "      <td>Despite its revolutionary success in hematolog...</td>\n",
       "      <td>1</td>\n",
       "      <td>Despite its revolutionary success in hematolog...</td>\n",
       "      <td>Despite its revolutionary success in hematolog...</td>\n",
       "      <td>6</td>\n",
       "      <td>6</td>\n",
       "    </tr>\n",
       "    <tr>\n",
       "      <th>11299</th>\n",
       "      <td>PMC6449497</td>\n",
       "      <td>Frontal electroencephalographic (EEG) alpha as...</td>\n",
       "      <td>Frontal electroencephalographic (EEG) alpha as...</td>\n",
       "      <td>1</td>\n",
       "      <td>Frontal electroencephalographic  alpha asymmet...</td>\n",
       "      <td>Frontal electroencephalographic  alpha asymmet...</td>\n",
       "      <td>7</td>\n",
       "      <td>7</td>\n",
       "    </tr>\n",
       "    <tr>\n",
       "      <th>11300</th>\n",
       "      <td>PMC6450511</td>\n",
       "      <td>This article provides an overview of recent as...</td>\n",
       "      <td>This article provides an overview of recent as...</td>\n",
       "      <td>1</td>\n",
       "      <td>This article provides an overview of recent as...</td>\n",
       "      <td>This article provides an overview of recent as...</td>\n",
       "      <td>8</td>\n",
       "      <td>8</td>\n",
       "    </tr>\n",
       "    <tr>\n",
       "      <th>11301</th>\n",
       "      <td>PMC6451644</td>\n",
       "      <td>Two experiments were conducted to see if askin...</td>\n",
       "      <td>Two experiments were conducted to see if askin...</td>\n",
       "      <td>1</td>\n",
       "      <td>Two experiments were conducted to see if askin...</td>\n",
       "      <td>Two experiments were conducted to see if askin...</td>\n",
       "      <td>10</td>\n",
       "      <td>10</td>\n",
       "    </tr>\n",
       "  </tbody>\n",
       "</table>\n",
       "<p>11293 rows × 8 columns</p>\n",
       "</div>"
      ],
      "text/plain": [
       "       article_id                                       article_text  \\\n",
       "0      PMC1510899  This study examined the association between pl...   \n",
       "1      PMC1693572  To determine whether observed changes in HIV p...   \n",
       "2      PMC1794711  The negative effect of poverty on child health...   \n",
       "3      PMC1798306  The recently accomplished complete genomic seq...   \n",
       "4      PMC1800823  The genus Rickettsia consists of intracellular...   \n",
       "...           ...                                                ...   \n",
       "11297  PMC6445367  The development, maintenance of healthy bone a...   \n",
       "11298  PMC6448565  Despite its revolutionary success in hematolog...   \n",
       "11299  PMC6449497  Frontal electroencephalographic (EEG) alpha as...   \n",
       "11300  PMC6450511  This article provides an overview of recent as...   \n",
       "11301  PMC6451644  Two experiments were conducted to see if askin...   \n",
       "\n",
       "                                           abstract_text abstract_id  \\\n",
       "0      This study examined the association between pl...           1   \n",
       "1      To determine whether observed changes in HIV p...           1   \n",
       "2      The negative effect of poverty on child health...           1   \n",
       "3      The recently accomplished complete genomic seq...           1   \n",
       "4      The genus Rickettsia consists of intracellular...           1   \n",
       "...                                                  ...         ...   \n",
       "11297  The development, maintenance of healthy bone a...           1   \n",
       "11298  Despite its revolutionary success in hematolog...           1   \n",
       "11299  Frontal electroencephalographic (EEG) alpha as...           1   \n",
       "11300  This article provides an overview of recent as...           1   \n",
       "11301  Two experiments were conducted to see if askin...           1   \n",
       "\n",
       "                               article_text_standartized  \\\n",
       "0      This study examined the association between pl...   \n",
       "1      To determine whether observed changes in HIV p...   \n",
       "2      The negative effect of poverty on child health...   \n",
       "3      The recently accomplished complete genomic seq...   \n",
       "4      The genus Rickettsia consists of intracellular...   \n",
       "...                                                  ...   \n",
       "11297  The development, maintenance of healthy bone a...   \n",
       "11298  Despite its revolutionary success in hematolog...   \n",
       "11299  Frontal electroencephalographic  alpha asymmet...   \n",
       "11300  This article provides an overview of recent as...   \n",
       "11301  Two experiments were conducted to see if askin...   \n",
       "\n",
       "                              abstract_text_standartized  abstract_n_sent_st  \\\n",
       "0      This study examined the association between pl...                   9   \n",
       "1      To determine whether observed changes in HIV p...                   8   \n",
       "2      The negative effect of poverty on child health...                  13   \n",
       "3      The recently accomplished complete genomic seq...                   8   \n",
       "4      The genus Rickettsia consists of intracellular...                   7   \n",
       "...                                                  ...                 ...   \n",
       "11297  The development, maintenance of healthy bone a...                   5   \n",
       "11298  Despite its revolutionary success in hematolog...                   6   \n",
       "11299  Frontal electroencephalographic  alpha asymmet...                   7   \n",
       "11300  This article provides an overview of recent as...                   8   \n",
       "11301  Two experiments were conducted to see if askin...                  10   \n",
       "\n",
       "       article_n_sent_st  \n",
       "0                      9  \n",
       "1                      8  \n",
       "2                     13  \n",
       "3                      8  \n",
       "4                      7  \n",
       "...                  ...  \n",
       "11297                  5  \n",
       "11298                  6  \n",
       "11299                  7  \n",
       "11300                  8  \n",
       "11301                 10  \n",
       "\n",
       "[11293 rows x 8 columns]"
      ]
     },
     "execution_count": 470,
     "metadata": {},
     "output_type": "execute_result"
    }
   ],
   "source": [
    "papers_df"
   ]
  },
  {
   "cell_type": "code",
   "execution_count": 469,
   "metadata": {},
   "outputs": [
    {
     "name": "stdout",
     "output_type": "stream",
     "text": [
      "median sentence amount in article: 9.0\n"
     ]
    },
    {
     "data": {
      "image/png": "[encoded data removed]",
      "text/plain": [
       "<Figure size 432x288 with 1 Axes>"
      ]
     },
     "metadata": {
      "needs_background": "light"
     },
     "output_type": "display_data"
    }
   ],
   "source": [
    "papers_df = papers_df[papers_df['article_n_sent_st'] < 2000]\n",
    "papers_df['article_n_sent_st'].hist(bins=20)\n",
    "print(\"median sentence amount in article:\", papers_df['article_n_sent_st'].median())"
   ]
  },
  {
   "cell_type": "markdown",
   "metadata": {},
   "source": [
    "##### Number of words"
   ]
  },
  {
   "cell_type": "code",
   "execution_count": 67,
   "metadata": {},
   "outputs": [],
   "source": [
    "from nltk.tokenize import word_tokenize"
   ]
  },
  {
   "cell_type": "code",
   "execution_count": 405,
   "metadata": {},
   "outputs": [],
   "source": [
    "papers_df['abstract_n_word_st'] = papers_df['abstract_text_standartized'].apply(lambda text: len(word_tokenize(text)))"
   ]
  },
  {
   "cell_type": "code",
   "execution_count": 406,
   "metadata": {},
   "outputs": [],
   "source": [
    "papers_df['abstract_n_word_st'] = papers_df['abstract_text_standartized'].apply(lambda text: len(word_tokenize(text)))"
   ]
  },
  {
   "cell_type": "code",
   "execution_count": 408,
   "metadata": {},
   "outputs": [
    {
     "name": "stdout",
     "output_type": "stream",
     "text": [
      "median word count in abstract: 207.0\n"
     ]
    },
    {
     "data": {
      "image/png": "[encoded data removed]",
      "text/plain": [
       "<Figure size 432x288 with 1 Axes>"
      ]
     },
     "metadata": {
      "needs_background": "light"
     },
     "output_type": "display_data"
    }
   ],
   "source": [
    "papers_df['abstract_n_word_st'].hist(bins=20)\n",
    "print(\"median word count in abstract:\", papers_df['abstract_n_word_st'].median())"
   ]
  },
  {
   "cell_type": "code",
   "execution_count": 409,
   "metadata": {},
   "outputs": [],
   "source": [
    "papers_df['article_n_word_st'] = papers_df['article_text_standartized'].apply(lambda text: len(word_tokenize(text)))"
   ]
  },
  {
   "cell_type": "code",
   "execution_count": 410,
   "metadata": {},
   "outputs": [
    {
     "name": "stdout",
     "output_type": "stream",
     "text": [
      "median word count in article: 3854.0\n"
     ]
    },
    {
     "data": {
      "image/png": "[encoded data removed]",
      "text/plain": [
       "<Figure size 432x288 with 1 Axes>"
      ]
     },
     "metadata": {
      "needs_background": "light"
     },
     "output_type": "display_data"
    }
   ],
   "source": [
    "papers_df['article_n_word_st'].hist(bins=50)\n",
    "print(\"median word count in article:\", papers_df['article_n_word_st'].median())"
   ]
  },
  {
   "cell_type": "code",
   "execution_count": 411,
   "metadata": {},
   "outputs": [
    {
     "name": "stdout",
     "output_type": "stream",
     "text": [
      "average number of words in article sentences:  25.018949942400496\n",
      "average number of words in abstract sentences:  23.447133134088453\n"
     ]
    }
   ],
   "source": [
    "print(\"average number of words in article sentences: \", \n",
    "      papers_df['article_n_word_st'].sum() / papers_df['article_n_sent_st'].sum())\n",
    "print(\"average number of words in abstract sentences: \", \n",
    "      papers_df['abstract_n_word_st'].sum() / papers_df['abstract_n_sent_st'].sum())"
   ]
  },
  {
   "cell_type": "markdown",
   "metadata": {},
   "source": [
    "___"
   ]
  },
  {
   "cell_type": "markdown",
   "metadata": {},
   "source": [
    "### Summary on CNN dataset"
   ]
  },
  {
   "cell_type": "code",
   "execution_count": 197,
   "metadata": {},
   "outputs": [],
   "source": [
    "cnn_path = \"/BertSum/raw_stories/cnn_stories.tgz\"\n",
    "tar = tarfile.open(os.getenv(\"HOME\") + cnn_path)\n",
    "tar_members = tar.getmembers()"
   ]
  },
  {
   "cell_type": "code",
   "execution_count": 232,
   "metadata": {},
   "outputs": [],
   "source": [
    "summary_n_sent = []\n",
    "stories_n_sent = []\n",
    "summary_n_words = []\n",
    "stories_n_words = []\n",
    "\n",
    "for member in tar_members[1:]:\n",
    "    cnn_file = tar.extractfile(member)\n",
    "    text = cnn_file.read().decode(\"utf-8\")\n",
    "    sep_index = text.find(\"@highlight\")\n",
    "    \n",
    "    story, summary = text[:sep_index], text[sep_index:]\n",
    "    \n",
    "    story = nltk.tokenize.sent_tokenize(story)\n",
    "    story = list(map(lambda sent: sent.replace(\"\\n\", \"\"), story))\n",
    "    \n",
    "    summary = summary.split(\"\\n\\n@highlight\\n\\n\")\n",
    "    summary[0] = summary[0].replace(\"@highlight\\n\\n\", \"\")\n",
    "    \n",
    "    # add statistics\n",
    "    stories_n_sent.append(len(story))\n",
    "    summary_n_sent.append(len(summary))\n",
    "    \n",
    "    stories_n_words.append(sum(map(lambda sent: len(word_tokenize(sent)), story)))\n",
    "    summary_n_words.append(sum(map(lambda sent: len(word_tokenize(sent)), summary)))\n",
    "\n",
    "#     for sent in story:\n",
    "#         stories_n_words.append(len(word_tokenize(sent)))\n",
    "#     for sent in summary:\n",
    "#         summary_n_words.append(len(word_tokenize(sent)))"
   ]
  },
  {
   "cell_type": "code",
   "execution_count": 238,
   "metadata": {},
   "outputs": [
    {
     "name": "stdout",
     "output_type": "stream",
     "text": [
      "Median sentence count in story : 29.0\n"
     ]
    },
    {
     "data": {
      "image/png": "[encoded data removed]",
      "text/plain": [
       "<Figure size 432x288 with 1 Axes>"
      ]
     },
     "metadata": {
      "needs_background": "light"
     },
     "output_type": "display_data"
    }
   ],
   "source": [
    "plt.hist(stories_n_sent, bins='auto')\n",
    "print(\"Median sentence count in story :\", np.median(stories_n_sent))"
   ]
  },
  {
   "cell_type": "code",
   "execution_count": 237,
   "metadata": {},
   "outputs": [
    {
     "name": "stdout",
     "output_type": "stream",
     "text": [
      "Median sentence count in story summary : 4.0\n"
     ]
    },
    {
     "data": {
      "image/png": "[encoded data removed]",
      "text/plain": [
       "<Figure size 432x288 with 1 Axes>"
      ]
     },
     "metadata": {
      "needs_background": "light"
     },
     "output_type": "display_data"
    }
   ],
   "source": [
    "plt.hist(summary_n_sent, bins='auto')\n",
    "print(\"Median sentence count in story summary :\", np.median(summary_n_sent))"
   ]
  },
  {
   "cell_type": "code",
   "execution_count": 235,
   "metadata": {},
   "outputs": [
    {
     "name": "stdout",
     "output_type": "stream",
     "text": [
      "Median word count in story : 699.0\n"
     ]
    },
    {
     "data": {
      "image/png": "[encoded data removed]",
      "text/plain": [
       "<Figure size 432x288 with 1 Axes>"
      ]
     },
     "metadata": {
      "needs_background": "light"
     },
     "output_type": "display_data"
    }
   ],
   "source": [
    "plt.hist(stories_n_words, bins=100)\n",
    "print(\"Median word count in story :\", np.median(stories_n_words))"
   ]
  },
  {
   "cell_type": "code",
   "execution_count": 236,
   "metadata": {},
   "outputs": [
    {
     "name": "stdout",
     "output_type": "stream",
     "text": [
      "Median word count in story summary : 46.0\n"
     ]
    },
    {
     "data": {
      "image/png": "[encoded data removed]",
      "text/plain": [
       "<Figure size 432x288 with 1 Axes>"
      ]
     },
     "metadata": {
      "needs_background": "light"
     },
     "output_type": "display_data"
    }
   ],
   "source": [
    "plt.hist(summary_n_words, bins=40)\n",
    "print(\"Median word count in story summary :\", np.median(summary_n_words))"
   ]
  },
  {
   "cell_type": "markdown",
   "metadata": {},
   "source": [
    "____"
   ]
  }
 ],
 "metadata": {
  "kernelspec": {
   "display_name": "Python 3",
   "language": "python",
   "name": "python3"
  },
  "language_info": {
   "codemirror_mode": {
    "name": "ipython",
    "version": 3
   },
   "file_extension": ".py",
   "mimetype": "text/x-python",
   "name": "python",
   "nbconvert_exporter": "python",
   "pygments_lexer": "ipython3",
   "version": "3.7.4"
  }
 },
 "nbformat": 4,
 "nbformat_minor": 2
}
